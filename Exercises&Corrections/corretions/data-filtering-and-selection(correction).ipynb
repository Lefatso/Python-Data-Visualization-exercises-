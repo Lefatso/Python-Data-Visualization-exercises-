{
 "cells": [
  {
   "cell_type": "markdown",
   "metadata": {},
   "source": [
    "## Data Filtering and Selection\n",
    "\n",
    "# 8. Filter by department\n",
    "employee_IT_filter = employee_data[employee_data['Department'] == \"IT\"]\n",
    "employee_IT_filter\n",
    "\n",
    "# 9. Filter by salary range (assuming no dollar signs)\n",
    "salary_filter = employee_data[(employee_data['Annual Salary'] >= 100000) & (employee_data['Annual Salary'] <= 150000)]\n",
    "salary_filter\n",
    "\n",
    "# 10. Filter by hire date\n",
    "filter_2015_employee = employee_data[pd.to_datetime(employee_data['Hire Date']) > pd.to_datetime('2015-01-01')]\n",
    "filter_2015_employee\n",
    "\n",
    "# 11. Filter by multiple conditions\n",
    "multi_col_filter = employee_data[(employee_data['Gender'] == 'Female') & (employee_data['Department'] =='Sales') & (employee_data['Bonus %'] > 0.1)]\n",
    "multi_col_filter\n",
    "\n",
    "# 12. Select specific columns\n",
    "new_dataFrame = employee_data[['Full Name','Job Title','Department','Annual Salary']]\n",
    "new_dataFrame"
   ]
  }
 ],
 "metadata": {
  "kernelspec": {
   "display_name": "Python 3",
   "language": "python",
   "name": "python3"
  },
  "language_info": {
   "codemirror_mode": {
    "name": "ipython",
    "version": 3
   },
   "file_extension": ".py",
   "mimetype": "text/x-python",
   "name": "python",
   "nbconvert_exporter": "python",
   "pygments_lexer": "ipython3",
   "version": "3.12.4"
  }
 },
 "nbformat": 4,
 "nbformat_minor": 2
}
