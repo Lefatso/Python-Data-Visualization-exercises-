{
 "cells": [
  {
   "cell_type": "markdown",
   "metadata": {},
   "source": [
    "Data Exploring and analysis Correction "
   ]
  },
  {
   "cell_type": "markdown",
   "metadata": {},
   "source": [
    "import pandas as pd\n",
    "\n",
    "# 1. Load the data (replace 'your_data.csv' with the actual file path)\n",
    "employee_data = pd.read_csv('your_data.csv')\n",
    "\n",
    "# 2. Data overview\n",
    "print(employee_data.head())\n",
    "print(employee_data.tail())\n",
    "\n",
    "# 3. Data types\n",
    "print(employee_data.dtypes)\n",
    "\n",
    "# 4. Summary statistics\n",
    "print(employee_data.describe())\n",
    "\n",
    "# 5. Missing values\n",
    "missing_value_count = employee_data.isna().sum()\n",
    "print(missing_value_count)\n",
    "\n",
    "# 6. Unique values\n",
    "unique_departments = employee_data['Department'].unique()\n",
    "print(unique_departments)\n",
    "\n",
    "# 7. Value counts\n",
    "value_counts = employee_data.value_counts()\n",
    "print(value_counts)"
   ]
  }
 ],
 "metadata": {
  "language_info": {
   "name": "python"
  }
 },
 "nbformat": 4,
 "nbformat_minor": 2
}
